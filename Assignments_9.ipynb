{
 "cells": [
  {
   "cell_type": "markdown",
   "id": "13f1ed0e",
   "metadata": {},
   "source": [
    "##### 1. To what does a relative path refer?"
   ]
  },
  {
   "cell_type": "markdown",
   "id": "35837f17",
   "metadata": {},
   "source": [
    "    Relative path is the path which does not contain the complete path to the directory or a file.\n",
    "    Eg, if the path of 'Test.txt' file is D:/Test/Tes1/Test2/Test3/Test.txt, and if I am in a Directory D:/Test/Tes1, the relative path of the same file would be Test2/Test3/Test.txt which doesn't have the complete path of the file. \n",
    "    "
   ]
  },
  {
   "cell_type": "markdown",
   "id": "0b565e5e",
   "metadata": {},
   "source": [
    "##### 2. What does an absolute path start with your operating system?"
   ]
  },
  {
   "cell_type": "markdown",
   "id": "1e10275b",
   "metadata": {},
   "source": [
    "    The complete path of the directory or a file from the drive path is called the absolute path.\n",
    "    Eg, D:/Test/Tes1/Test2/Test3/Test.txt"
   ]
  },
  {
   "cell_type": "markdown",
   "id": "59eee355",
   "metadata": {},
   "source": [
    "##### 3. What do the functions os.getcwd() and os.chdir() do?"
   ]
  },
  {
   "cell_type": "markdown",
   "id": "449bdb34",
   "metadata": {},
   "source": [
    "    os.getcwd() - returns the current working directory.\n",
    "    os.chdir() - is used to change the current working directory to the specified path as an argument to this function."
   ]
  },
  {
   "cell_type": "markdown",
   "id": "e451fa58",
   "metadata": {},
   "source": [
    "##### 4. What are the . and .. folders?"
   ]
  },
  {
   "cell_type": "markdown",
   "id": "ea9fc421",
   "metadata": {},
   "source": [
    "    . means the current folder path \n",
    "    .. means the folder previous to the current folder or the parent folder to the current folder"
   ]
  },
  {
   "cell_type": "markdown",
   "id": "57f21cd4",
   "metadata": {},
   "source": [
    "##### 5. In C:\\bacon\\eggs\\spam.txt, which part is the dir name, and which part is the base name?"
   ]
  },
  {
   "cell_type": "markdown",
   "id": "c6379dd3",
   "metadata": {},
   "source": [
    "    dirname - C:\\bacon\\eggs\n",
    "    basename - spam.txt"
   ]
  },
  {
   "cell_type": "markdown",
   "id": "a87c2862",
   "metadata": {},
   "source": [
    "##### 6. What are the three “mode” arguments that can be passed to the open() function?"
   ]
  },
  {
   "cell_type": "markdown",
   "id": "c57356c5",
   "metadata": {},
   "source": [
    "    r - read mode\n",
    "    w - write mode\n",
    "    a - append mode"
   ]
  },
  {
   "cell_type": "markdown",
   "id": "061a5302",
   "metadata": {},
   "source": [
    "##### 7. What happens if an existing file is opened in write mode?"
   ]
  },
  {
   "cell_type": "markdown",
   "id": "bc5ca1db",
   "metadata": {},
   "source": [
    "    If an existing file is opened in write mode it removes the content of the file and writes the content again similar to writing to a new file."
   ]
  },
  {
   "cell_type": "markdown",
   "id": "919310e7",
   "metadata": {},
   "source": [
    "##### 8. How do you tell the difference between read() and readlines()?"
   ]
  },
  {
   "cell_type": "markdown",
   "id": "bc1da468",
   "metadata": {},
   "source": [
    "    read method returns the entire content of the file as a string or the number of characters passed as an argument.\n",
    "    readlines method returns the list of string, in which each element represents the single line of the file.\n",
    "    readlines also accepts the number of characters but it would be rounded up so that an entire line is returned."
   ]
  },
  {
   "cell_type": "markdown",
   "id": "e7ffed34",
   "metadata": {},
   "source": [
    "##### 9. What data structure does a shelf value resemble?"
   ]
  },
  {
   "cell_type": "markdown",
   "id": "a525817e",
   "metadata": {},
   "source": [
    "    A dictionary value resembles the shelf value"
   ]
  }
 ],
 "metadata": {
  "kernelspec": {
   "display_name": "Python 3",
   "language": "python",
   "name": "python3"
  },
  "language_info": {
   "codemirror_mode": {
    "name": "ipython",
    "version": 3
   },
   "file_extension": ".py",
   "mimetype": "text/x-python",
   "name": "python",
   "nbconvert_exporter": "python",
   "pygments_lexer": "ipython3",
   "version": "3.8.8"
  }
 },
 "nbformat": 4,
 "nbformat_minor": 5
}
