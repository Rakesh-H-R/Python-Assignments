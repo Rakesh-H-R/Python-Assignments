{
 "cells": [
  {
   "cell_type": "markdown",
   "id": "fde1fbfb",
   "metadata": {},
   "source": [
    "##### 1. Is the Python Standard Library included with PyInputPlus?"
   ]
  },
  {
   "cell_type": "markdown",
   "id": "be7ddee4",
   "metadata": {},
   "source": [
    "    PyInputPlus is not a part of Python Standard Library"
   ]
  },
  {
   "cell_type": "markdown",
   "id": "abcb9b3f",
   "metadata": {},
   "source": [
    "##### 2. Why is PyInputPlus commonly imported with import pyinputplus as pypi?"
   ]
  },
  {
   "cell_type": "markdown",
   "id": "c90b16c4",
   "metadata": {},
   "source": [
    "    It is just a naming convention or alias we use for the imported library, it is not mandatory to use pypi only as the alias. It is a naming convention to use shorter name instead of typing again and again."
   ]
  },
  {
   "cell_type": "markdown",
   "id": "6554196c",
   "metadata": {},
   "source": [
    "##### 3. How do you distinguish between inputInt() and inputFloat()?"
   ]
  },
  {
   "cell_type": "markdown",
   "id": "32a7cb11",
   "metadata": {},
   "source": [
    "    pyinputplus library provides these inputInt and inputFloat methods to accespt the input of particular datatype.\n",
    "    \n",
    "    inputInt() - This method is used to accept only integers and it keeps prompting the user to enter the Integer as an input if any other datatype is entered as an input.\n",
    "    \n",
    "    inputFloat() - This method is used to accept only float values and it keeps prompting the user to enter the float value as an input if any other datatype is entered as an input except ineteger as it would be converted to float."
   ]
  },
  {
   "cell_type": "markdown",
   "id": "7c8b5bc3",
   "metadata": {},
   "source": [
    "##### 4. Using PyInputPlus, how do you ensure that the user enters a whole number between 0 and 99?"
   ]
  },
  {
   "cell_type": "markdown",
   "id": "cf827272",
   "metadata": {},
   "source": [
    "    import pyinputplus as Rak\n",
    "    Rak.inputNum(min=0,max=99)"
   ]
  },
  {
   "cell_type": "markdown",
   "id": "fa332c1f",
   "metadata": {},
   "source": [
    "##### 5. What is transferred to the keyword arguments allowRegexes and blockRegexes?"
   ]
  },
  {
   "cell_type": "markdown",
   "id": "4e5c0c7d",
   "metadata": {},
   "source": [
    "    The allowRegexes and blockRegexes keyword arguments take a list of regular expression strings to check what PyInputPlus functions will accept or reject.\n",
    "    import pyinputplus as Rak\n",
    "    Rak.inputInt(blockRegexes='^[0-5]*$') - This will reject the values between 0 and 5"
   ]
  },
  {
   "cell_type": "markdown",
   "id": "4fa9b1a0",
   "metadata": {},
   "source": [
    "##### 6. If a blank input is entered three times, what does inputStr(limit=3) do?"
   ]
  },
  {
   "cell_type": "markdown",
   "id": "adefe9c0",
   "metadata": {},
   "source": [
    "    System will stop prompting for the user for the input once the limit reaches the number of times of input, and it throws the RetryLimitException."
   ]
  },
  {
   "cell_type": "markdown",
   "id": "d169f73a",
   "metadata": {},
   "source": [
    "##### 7. If blank input is entered three times, what does inputStr(limit=3, default='hello') do?"
   ]
  },
  {
   "cell_type": "markdown",
   "id": "66f970f2",
   "metadata": {},
   "source": [
    "    If a blank input is entered three times to inputStr(limit=3, default='Hello'), it returns the default value 'Hello' to the assigned variable as an input.\n",
    "    \n",
    "    import pyinputplus as Rak\n",
    "    a = Rak.inputStr(limit=3, default='Hello') \n",
    "    \n",
    "    a will be assigned with 'Hello', if user enters blank input three times, else the user input gets assigned to the variable."
   ]
  }
 ],
 "metadata": {
  "kernelspec": {
   "display_name": "Python 3",
   "language": "python",
   "name": "python3"
  },
  "language_info": {
   "codemirror_mode": {
    "name": "ipython",
    "version": 3
   },
   "file_extension": ".py",
   "mimetype": "text/x-python",
   "name": "python",
   "nbconvert_exporter": "python",
   "pygments_lexer": "ipython3",
   "version": "3.8.8"
  }
 },
 "nbformat": 4,
 "nbformat_minor": 5
}
