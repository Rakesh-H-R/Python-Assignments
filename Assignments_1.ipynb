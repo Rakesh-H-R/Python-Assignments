{
 "cells": [
  {
   "cell_type": "markdown",
   "id": "f42ac66e",
   "metadata": {},
   "source": [
    "##### 1. In the below elements which of them are values or an expression? eg:- values can be integer or string and expressions will be mathematical operators."
   ]
  },
  {
   "cell_type": "markdown",
   "id": "cd02d5fd",
   "metadata": {},
   "source": [
    "    * - expression\n",
    "    'hello' - value\n",
    "    -87.8 - value\n",
    "    - - expression\n",
    "    / - expression\n",
    "    + - expression\n",
    "    6 - value"
   ]
  },
  {
   "cell_type": "markdown",
   "id": "34585dcc",
   "metadata": {},
   "source": [
    "##### 2. What is the difference between string and variable?"
   ]
  },
  {
   "cell_type": "markdown",
   "id": "a96098ad",
   "metadata": {},
   "source": [
    "    String is a collection or group of characters, a variable can have a number or a string or any other values assigned to it."
   ]
  },
  {
   "cell_type": "markdown",
   "id": "1b6f9362",
   "metadata": {},
   "source": [
    "##### 3. Describe three different data types."
   ]
  },
  {
   "cell_type": "markdown",
   "id": "146d88ad",
   "metadata": {},
   "source": [
    "    The Datatypes are :\n",
    "    1. Numeric\n",
    "        a. int\n",
    "        b. float\n",
    "        c. complex\n",
    "    2. string\n",
    "    3. boolean\n",
    "    4. list\n",
    "    5. tuple\n",
    "    6. set\n",
    "    7. dictionary\n",
    "    \n",
    "    1.  Numeric datatype represents the numeric value\n",
    "        a. int : This represents the negative or positive numerical value without decimal values. eg: -1, 5\n",
    "        b. float : This represents the positive or negative numerical value with decimal values. eg: -1.2, 5.4\n",
    "        c. complex : This represents the value which has both real part and imaginary part. eg: 1+4j\n",
    "        \n",
    "    2.  String is a collection or group of characters. eg: \"Rakesh\", \"iNeuron\".\n",
    "    3.  boolean is True or False. \n",
    "    4.  list is ordered collection of elements enclosed within [] and it is mutable. eg : [\"Rakesh\",1,2,4,5.6]\n",
    "    5.  tuple is ordered colelction of elements enclosed within () and it is immutable. eg : (\"Rakesh\",1,2,3,5.6)\n",
    "    6.  set is a unordered collection of unique elements enclosed within {}. eg : {1,2,3,4,5,\"Rakesh\"}\n",
    "    7.  Dictionary stores the data as key value pairs. eg: {\"Name\":\"Rakesh\",\"course\":\"Full Stack Data Science\"} "
   ]
  },
  {
   "cell_type": "markdown",
   "id": "3612cbc9",
   "metadata": {},
   "source": [
    "##### 4. What is an expression made up of? What do all expressions do?"
   ]
  },
  {
   "cell_type": "markdown",
   "id": "da6ad405",
   "metadata": {},
   "source": [
    "    An expression is a combination of operands and operators, expression apply the operator on the operands to produce the output."
   ]
  },
  {
   "cell_type": "markdown",
   "id": "8b26d054",
   "metadata": {},
   "source": [
    "##### 5. This assignment statement, like spam = 10. What is the difference between an expression and a statement?"
   ]
  },
  {
   "cell_type": "markdown",
   "id": "01b2da3d",
   "metadata": {},
   "source": [
    "    spam = 10, assigns the value of 10 to a variable spam (reference to a value) this is a statement. Expression evaluates and produces a value."
   ]
  },
  {
   "cell_type": "markdown",
   "id": "c14ed324",
   "metadata": {},
   "source": [
    "##### 6. After running the following code, what does the variable bacon contain? bacon = 22 bacon + 1\n"
   ]
  },
  {
   "cell_type": "markdown",
   "id": "be880dc6",
   "metadata": {},
   "source": [
    "    23"
   ]
  },
  {
   "cell_type": "markdown",
   "id": "539b11b9",
   "metadata": {},
   "source": [
    "##### 7. What should the values of the following two terms be?\n",
    "'spam' + 'spamspam'\n",
    "'spam' * 3\n"
   ]
  },
  {
   "cell_type": "markdown",
   "id": "72e967de",
   "metadata": {},
   "source": [
    "    'spam' + 'spamspam' = 'spamspamspam'\n",
    "    'spam' * 3 = 'spamspamspam'"
   ]
  },
  {
   "cell_type": "markdown",
   "id": "25748ad8",
   "metadata": {},
   "source": [
    "##### 8. Why is eggs a valid variable name while 100 is invalid?"
   ]
  },
  {
   "cell_type": "markdown",
   "id": "09652803",
   "metadata": {},
   "source": [
    "    variable name cannot start with a number, but a number can follow a character, so 100 cannot be a valid variable name but e100 can be a valid variable name and eggs also is a valid variable name "
   ]
  },
  {
   "cell_type": "markdown",
   "id": "8f1ce15d",
   "metadata": {},
   "source": [
    "##### 9. What three functions can be used to get the integer, floating-point number, or string version of a value?"
   ]
  },
  {
   "cell_type": "markdown",
   "id": "28b9e069",
   "metadata": {},
   "source": [
    "    a = \"123\"\n",
    "    int(a)\n",
    "    \n",
    "    b = \"4.5\"\n",
    "    float(b)\n",
    "    \n",
    "    c = 123\n",
    "    str(c)"
   ]
  },
  {
   "cell_type": "markdown",
   "id": "d90f88b6",
   "metadata": {},
   "source": [
    "##### 10. Why does this expression cause an error? How can you fix it?\n",
    "'I have eaten ' + 99 + ' burritos.'\n"
   ]
  },
  {
   "cell_type": "markdown",
   "id": "00591881",
   "metadata": {},
   "source": [
    "    We are trying to apply addition operator on heterogenous datatypes i.e, we are trying to add a string and an interger so this expression results in an error"
   ]
  },
  {
   "cell_type": "code",
   "execution_count": null,
   "id": "c4d99105",
   "metadata": {},
   "outputs": [],
   "source": []
  }
 ],
 "metadata": {
  "kernelspec": {
   "display_name": "Python 3",
   "language": "python",
   "name": "python3"
  },
  "language_info": {
   "codemirror_mode": {
    "name": "ipython",
    "version": 3
   },
   "file_extension": ".py",
   "mimetype": "text/x-python",
   "name": "python",
   "nbconvert_exporter": "python",
   "pygments_lexer": "ipython3",
   "version": "3.8.8"
  }
 },
 "nbformat": 4,
 "nbformat_minor": 5
}
