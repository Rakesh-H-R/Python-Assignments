{
 "cells": [
  {
   "cell_type": "markdown",
   "id": "8ce9a9a5",
   "metadata": {},
   "source": [
    "##### 1. What are escape characters, and how do you use them?"
   ]
  },
  {
   "cell_type": "markdown",
   "id": "5ca0e154",
   "metadata": {},
   "source": [
    "    \\ - backslash is a special character also called as escape character which can be used along with t and n\n",
    "    \\t - tab space \n",
    "    \\n - new line"
   ]
  },
  {
   "cell_type": "markdown",
   "id": "063e503c",
   "metadata": {},
   "source": [
    "##### 2. What do the escape characters n and t stand for?"
   ]
  },
  {
   "cell_type": "markdown",
   "id": "852740a7",
   "metadata": {},
   "source": [
    "    The escape characters are as below,\n",
    "    \\ is used along with n - \\n stands for new line\n",
    "    \\ is used along with t - \\t stands fot tab space"
   ]
  },
  {
   "cell_type": "markdown",
   "id": "28e13715",
   "metadata": {},
   "source": [
    "##### 3. What is the way to include backslash characters in a string?"
   ]
  },
  {
   "cell_type": "markdown",
   "id": "0ef01241",
   "metadata": {},
   "source": [
    "    The backslash charcter is included in a string using it multiple twice.\n",
    "    Eg - a = '\\\\Rakesh\\\\H R'"
   ]
  },
  {
   "cell_type": "markdown",
   "id": "33d34b89",
   "metadata": {},
   "source": [
    "##### 4. The string \"Howl's Moving Castle\" is a correct value. Why isn't the single quote character in the word Howl's not escaped a problem?"
   ]
  },
  {
   "cell_type": "markdown",
   "id": "43434122",
   "metadata": {},
   "source": [
    "    value = \"Howl's Moving Castle\"\n",
    "    a single quote character can be used within doubt quotes and double quote character can be used within a single quote while storing a string."
   ]
  },
  {
   "cell_type": "markdown",
   "id": "2baec70f",
   "metadata": {},
   "source": [
    "##### 5. How do you write a string of newlines if you don't want to use the n character?"
   ]
  },
  {
   "cell_type": "markdown",
   "id": "3adc772c",
   "metadata": {},
   "source": [
    "    print('\\n \\n \\n \\n')"
   ]
  },
  {
   "cell_type": "markdown",
   "id": "f93976ba",
   "metadata": {},
   "source": [
    "##### 6. What are the values of the given expressions?"
   ]
  },
  {
   "cell_type": "markdown",
   "id": "1c91672f",
   "metadata": {},
   "source": [
    "    'Hello, world!'[1] - 'e'\n",
    "    'Hello, world!'[0:5] - 'Hello'\n",
    "    'Hello, world!'[:5] - 'Hello'\n",
    "    'Hello, world!'[3:] - 'lo, world!'"
   ]
  },
  {
   "cell_type": "markdown",
   "id": "2ee6ad51",
   "metadata": {},
   "source": [
    "##### 7. What are the values of the following expressions?"
   ]
  },
  {
   "cell_type": "markdown",
   "id": "8c9feb17",
   "metadata": {},
   "source": [
    "    'Hello'.upper() - 'HELLO'\n",
    "    'Hello'.upper().isupper() - True\n",
    "    'Hello'.upper().lower() - 'hello'"
   ]
  },
  {
   "cell_type": "markdown",
   "id": "8191db7a",
   "metadata": {},
   "source": [
    "##### 8. What are the values of the following expressions?"
   ]
  },
  {
   "cell_type": "markdown",
   "id": "2b1bec40",
   "metadata": {},
   "source": [
    "    'Remember, remember, the fifth of July.'.split() - ['Remember,','remember,','the','fifth','of','July.']\n",
    "    '-'.join('There can only one.'.split()) - 'There-can-only-one.'"
   ]
  },
  {
   "cell_type": "markdown",
   "id": "7f7cab4a",
   "metadata": {},
   "source": [
    "##### 9. What are the methods for right-justifying, left-justifying, and centering a string?"
   ]
  },
  {
   "cell_type": "markdown",
   "id": "5157d3c6",
   "metadata": {},
   "source": [
    "    lstrip(), rstrip() and center() are the methods used for left-justifying, right-justifying and centering respectively.\n",
    "    \n",
    "    Eg,\n",
    "    \n",
    "    '  Rakesh  '.lstrip() - 'Rakesh  '\n",
    "    '  Rakesh  '.rstrip() - '  Rakesh'\n",
    "    'Rakesh'.center(10) - '  Rakesh  '"
   ]
  },
  {
   "cell_type": "markdown",
   "id": "ce4e9e8e",
   "metadata": {},
   "source": [
    "##### 10. What is the best way to remove whitespace characters from the start or end?"
   ]
  },
  {
   "cell_type": "markdown",
   "id": "2757a81d",
   "metadata": {},
   "source": [
    "    strip() is the method we can use to remove the whitespaces from the start or end\n",
    "    ' Rakesh H R  '.strip() - 'Rakesh H R'"
   ]
  }
 ],
 "metadata": {
  "kernelspec": {
   "display_name": "Python 3",
   "language": "python",
   "name": "python3"
  },
  "language_info": {
   "codemirror_mode": {
    "name": "ipython",
    "version": 3
   },
   "file_extension": ".py",
   "mimetype": "text/x-python",
   "name": "python",
   "nbconvert_exporter": "python",
   "pygments_lexer": "ipython3",
   "version": "3.8.8"
  }
 },
 "nbformat": 4,
 "nbformat_minor": 5
}
