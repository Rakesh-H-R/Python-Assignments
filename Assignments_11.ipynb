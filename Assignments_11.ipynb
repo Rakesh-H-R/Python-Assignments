{
 "cells": [
  {
   "cell_type": "markdown",
   "id": "a83c579c",
   "metadata": {},
   "source": [
    "##### 1. Create an assert statement that throws an AssertionError if the variable spam is a negative integer."
   ]
  },
  {
   "cell_type": "markdown",
   "id": "3d4f1b22",
   "metadata": {},
   "source": [
    "    def assertError(arg):\n",
    "        \"\"\"This functions accepts only positive integer\"\"\"\n",
    "        assert arg >=0,\"Cannot accept negative integer\"\n",
    "        return arg"
   ]
  },
  {
   "cell_type": "markdown",
   "id": "30c5f3fd",
   "metadata": {},
   "source": [
    "##### 2. Write an assert statement that triggers an AssertionError if the variables eggs and bacon contain strings that are the same as each other, even if their cases are different (that is, 'hello' and 'hello' are considered the same, and 'goodbye' and 'GOODbye' are also considered the same)."
   ]
  },
  {
   "cell_type": "markdown",
   "id": "53d21f7b",
   "metadata": {},
   "source": [
    "    def checkSim(eggs,bacon):\n",
    "        if type(eggs)==str and type(bacon)==str:\n",
    "            assert str(eggs).lower()!=str(bacon).lower(),\"Both {} and {} are same\".format(eggs,bacon)\n",
    "        else:\n",
    "            return \"Sorry..!, I can handle only string\""
   ]
  },
  {
   "cell_type": "markdown",
   "id": "88642a29",
   "metadata": {},
   "source": [
    "    checkSim('Hello','hello')"
   ]
  },
  {
   "cell_type": "markdown",
   "id": "571f0f8e",
   "metadata": {},
   "source": [
    "##### 3. Create an assert statement that throws an AssertionError every time."
   ]
  },
  {
   "cell_type": "markdown",
   "id": "655fec4b",
   "metadata": {},
   "source": [
    "    assert False, \"Error\""
   ]
  },
  {
   "cell_type": "markdown",
   "id": "e21c988a",
   "metadata": {},
   "source": [
    "##### 4. What are the two lines that must be present in your software in order to call logging.debug()?"
   ]
  },
  {
   "cell_type": "markdown",
   "id": "6e557bca",
   "metadata": {},
   "source": [
    "    import logging\n",
    "    logging.basicConfig(filename='Test.log',filemode='w',level=logging.DEBUG)"
   ]
  },
  {
   "cell_type": "markdown",
   "id": "8f82be63",
   "metadata": {},
   "source": [
    "##### 5. What are the two lines that your program must have in order to have logging.debug() send a logging message to a file named programLog.txt?"
   ]
  },
  {
   "cell_type": "markdown",
   "id": "b033a28b",
   "metadata": {},
   "source": [
    "    import logging\n",
    "    logging.basicConfig(filename='ProgramLog.txt',filemode='w',level=logging.DEBUG)"
   ]
  },
  {
   "cell_type": "markdown",
   "id": "cc230f9f",
   "metadata": {},
   "source": [
    "##### 6. What are the five levels of logging?"
   ]
  },
  {
   "cell_type": "markdown",
   "id": "016ed310",
   "metadata": {},
   "source": [
    "    The five levels of logging are,\n",
    "        1. DEBUG\n",
    "        2. INFO\n",
    "        3. WARNING\n",
    "        4. ERROR\n",
    "        5. CRITICAL"
   ]
  },
  {
   "cell_type": "markdown",
   "id": "e65ec502",
   "metadata": {},
   "source": [
    "##### 7. What line of code would you add to your software to disable all logging messages?"
   ]
  },
  {
   "cell_type": "markdown",
   "id": "f802d7d2",
   "metadata": {},
   "source": [
    "    import logging\n",
    "    logging.basicConfig(filename='ProgramLog.txt',filemode='w',level=logging.DEBUG)\n",
    "    logging.disable(logging.CRITICAL) - This line disables critical level logs and levels below it"
   ]
  },
  {
   "cell_type": "markdown",
   "id": "0ed41614",
   "metadata": {},
   "source": [
    "##### 8.Why is using logging messages better than using print() to display the same message?"
   ]
  },
  {
   "cell_type": "markdown",
   "id": "956662c3",
   "metadata": {},
   "source": [
    "    print just prints the message to the console and we will not be able to store it anywhere. If we want to debug any of the issue after sometime we will not be able to do so, logging these messages to file would help us storing the messages and helps in debugging the issue even after many days."
   ]
  },
  {
   "cell_type": "markdown",
   "id": "3a16f298",
   "metadata": {},
   "source": [
    "##### 9. What are the differences between the Step Over, Step In, and Step Out buttons in the debugger?"
   ]
  },
  {
   "cell_type": "markdown",
   "id": "0fc2455b",
   "metadata": {},
   "source": [
    "    Step In - To debug the called functions also\n",
    "    Step out - This gets enabled only after curson gets inside a procedure. This is to come out of the function to the place from where it is called.\n",
    "    Step Over - To debug line by line, even if there is function call it will be considered as a single line"
   ]
  },
  {
   "cell_type": "markdown",
   "id": "c68261ed",
   "metadata": {},
   "source": [
    "##### 10.After you click Continue, when will the debugger stop ?"
   ]
  },
  {
   "cell_type": "markdown",
   "id": "37f7f107",
   "metadata": {},
   "source": [
    "    debugger stops after the click of continue/resume, when it encounters the breapoint"
   ]
  },
  {
   "cell_type": "markdown",
   "id": "15e13336",
   "metadata": {},
   "source": [
    "##### 11. What is the concept of a breakpoint?"
   ]
  },
  {
   "cell_type": "markdown",
   "id": "11561464",
   "metadata": {},
   "source": [
    "    Breakpoint is a place in our program where we are trying to pause the execution of our program for the debugging purpose."
   ]
  }
 ],
 "metadata": {
  "kernelspec": {
   "display_name": "Python 3",
   "language": "python",
   "name": "python3"
  },
  "language_info": {
   "codemirror_mode": {
    "name": "ipython",
    "version": 3
   },
   "file_extension": ".py",
   "mimetype": "text/x-python",
   "name": "python",
   "nbconvert_exporter": "python",
   "pygments_lexer": "ipython3",
   "version": "3.8.8"
  }
 },
 "nbformat": 4,
 "nbformat_minor": 5
}
