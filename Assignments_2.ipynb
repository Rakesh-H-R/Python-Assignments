{
 "cells": [
  {
   "cell_type": "markdown",
   "id": "640a9aa6",
   "metadata": {},
   "source": [
    "##### 1.What are the two values of the Boolean data type? How do you write them?"
   ]
  },
  {
   "cell_type": "markdown",
   "id": "abe79262",
   "metadata": {},
   "source": [
    "    The two values of Boolean data type are true and false, we used to write as True and False in python."
   ]
  },
  {
   "cell_type": "markdown",
   "id": "7b48f90f",
   "metadata": {},
   "source": [
    "##### 2. What are the three different types of Boolean operators?"
   ]
  },
  {
   "cell_type": "markdown",
   "id": "3b2ed66a",
   "metadata": {},
   "source": [
    "    The three different types of Boolean operators are and, or and not."
   ]
  },
  {
   "cell_type": "markdown",
   "id": "5cd00428",
   "metadata": {},
   "source": [
    "##### 3. Make a list of each Boolean operator's truth tables (i.e. every possible combination of Boolean values for the operator and what it evaluate )."
   ]
  },
  {
   "cell_type": "markdown",
   "id": "73c4acc7",
   "metadata": {},
   "source": [
    "    a = [True, True, False, False]\n",
    "    b = [True, False, True, False]\n",
    "    \n",
    "    a and b = [True, False, False, False]\n",
    "    a or b  = [True, True, True, False]\n",
    "    not True = False\n",
    "    not False = True"
   ]
  },
  {
   "cell_type": "markdown",
   "id": "1d0201e9",
   "metadata": {},
   "source": [
    "##### 4. What are the values of the following expressions?\n",
    "(5 > 4) and (3 == 5)\n",
    "not (5 > 4)\n",
    "(5 > 4) or (3 == 5)\n",
    "not ((5 > 4) or (3 == 5))\n",
    "(True and True) and (True == False)\n",
    "(not False) or (not True)\n"
   ]
  },
  {
   "cell_type": "markdown",
   "id": "6c855b95",
   "metadata": {},
   "source": [
    "    (5 > 4) and (3 == 5) - False\n",
    "    not (5 > 4) - False\n",
    "    (5 > 4) or (3 == 5) - True\n",
    "    not ((5 > 4) or (3 == 5)) - False\n",
    "    (True and True) and (True == False) - False\n",
    "    (not False) or (not True) - True"
   ]
  },
  {
   "cell_type": "markdown",
   "id": "b8c1fcd0",
   "metadata": {},
   "source": [
    "##### 5. What are the six comparison operators?"
   ]
  },
  {
   "cell_type": "markdown",
   "id": "21043d32",
   "metadata": {},
   "source": [
    "    == Equal\n",
    "    != Not equal\n",
    "    >  Greater than\n",
    "    <  Lesser than\n",
    "    >= Greater than or equal to\n",
    "    <= Lesser than or equal to"
   ]
  },
  {
   "cell_type": "markdown",
   "id": "2bd605f5",
   "metadata": {},
   "source": [
    "##### 6. How do you tell the difference between the equal to and assignment operators?Describe a condition and when you would use one."
   ]
  },
  {
   "cell_type": "markdown",
   "id": "c36c42e9",
   "metadata": {},
   "source": [
    "    Equal to operator uses two equals operator and assignment operator uses only one equal operator\n",
    "    Equal to operator is used to check whether two operands are equal or not, whereas assignment operator is used to assign a value to a variable.\n",
    "    we used one equal operator to assign a value to a variable"
   ]
  },
  {
   "cell_type": "markdown",
   "id": "ba9f84f7",
   "metadata": {},
   "source": [
    "##### 7. Identify the three blocks in this code:\n",
    "spam = 0\n",
    "if spam == 10:\n",
    "print('eggs')\n",
    "if spam > 5:\n",
    "print('bacon')\n",
    "else:\n",
    "print('ham')\n",
    "print('spam')\n",
    "print('spam')\n"
   ]
  },
  {
   "cell_type": "markdown",
   "id": "8b01a461",
   "metadata": {},
   "source": [
    "    spam = 0\n",
    "    if spam == 10:\n",
    "        print('eggs')\n",
    "    if spam > 5:\n",
    "        print('bacon')\n",
    "    else:\n",
    "        print('ham')\n",
    "    print('spam')\n",
    "    print('spam')"
   ]
  },
  {
   "cell_type": "markdown",
   "id": "b8452f3b",
   "metadata": {},
   "source": [
    "##### 8. Write code that prints Hello if 1 is stored in spam, prints Howdy if 2 is stored in spam, and prints Greetings! if anything else is stored in spam."
   ]
  },
  {
   "cell_type": "code",
   "execution_count": 16,
   "id": "8a4c1648",
   "metadata": {},
   "outputs": [
    {
     "name": "stdout",
     "output_type": "stream",
     "text": [
      "Please Enter the Integer value : 3\n",
      "Greetings!\n"
     ]
    }
   ],
   "source": [
    "spam = int(input(\"Please Enter the Integer value : \"))\n",
    "if spam==1:\n",
    "    print(\"Hello\")\n",
    "elif spam==2:\n",
    "    print(\"Howdy\")\n",
    "else:\n",
    "    print(\"Greetings!\")"
   ]
  },
  {
   "cell_type": "markdown",
   "id": "fa415284",
   "metadata": {},
   "source": [
    "##### 9.If your programme is stuck in an endless loop, what keys you’ll press?"
   ]
  },
  {
   "cell_type": "markdown",
   "id": "cc02af1c",
   "metadata": {},
   "source": [
    "    Interrupt the kernel in Jupyter notebook or stop the current command in Spyder"
   ]
  },
  {
   "cell_type": "markdown",
   "id": "8d81aaf5",
   "metadata": {},
   "source": [
    "##### 10. How can you tell the difference between break and continue?"
   ]
  },
  {
   "cell_type": "markdown",
   "id": "9d14bec0",
   "metadata": {},
   "source": [
    "    break can be used to interrupt the looping statement without executing the set of statements following the break statement if certain condition is met and execution comes out of the loop\n",
    "    continue can be used to continue the loop if certain conditon is met without executing the set of statements following the continue keyword but this will continue the execution of the loop"
   ]
  },
  {
   "cell_type": "markdown",
   "id": "8f77900f",
   "metadata": {},
   "source": [
    "##### 11. In a for loop, what is the difference between range(10), range(0, 10), and range(0, 10, 1)?"
   ]
  },
  {
   "cell_type": "markdown",
   "id": "c21b4217",
   "metadata": {},
   "source": [
    "    There is no difference,\n",
    "    for i in range(10):\n",
    "        print(i)\n",
    "        \n",
    "        OR\n",
    "        \n",
    "    for i in range(0,10):\n",
    "        print(i)\n",
    "        \n",
    "        OR\n",
    "        \n",
    "    for i in range(0,10,1):\n",
    "        print(i)\n",
    "        \n",
    "    gives the same output"
   ]
  },
  {
   "cell_type": "markdown",
   "id": "d918dfeb",
   "metadata": {},
   "source": [
    "##### 12. Write a short program that prints the numbers 1 to 10 using a for loop. Then write an equivalent program that prints the numbers 1 to 10 using a while loop."
   ]
  },
  {
   "cell_type": "code",
   "execution_count": 22,
   "id": "35de502a",
   "metadata": {},
   "outputs": [
    {
     "name": "stdout",
     "output_type": "stream",
     "text": [
      "1\n",
      "2\n",
      "3\n",
      "4\n",
      "5\n",
      "6\n",
      "7\n",
      "8\n",
      "9\n",
      "10\n"
     ]
    }
   ],
   "source": [
    "for i in range(1,11):\n",
    "    print(i)"
   ]
  },
  {
   "cell_type": "code",
   "execution_count": 24,
   "id": "cdf6f52e",
   "metadata": {},
   "outputs": [
    {
     "name": "stdout",
     "output_type": "stream",
     "text": [
      "1\n",
      "2\n",
      "3\n",
      "4\n",
      "5\n",
      "6\n",
      "7\n",
      "8\n",
      "9\n",
      "10\n"
     ]
    }
   ],
   "source": [
    "i = 1\n",
    "while i <11:\n",
    "    print(i)\n",
    "    i+=1"
   ]
  },
  {
   "cell_type": "markdown",
   "id": "ebf59cc6",
   "metadata": {},
   "source": [
    "##### 13. If you had a function named bacon() inside a module named spam, how would you call it after importing spam?"
   ]
  },
  {
   "cell_type": "markdown",
   "id": "f7b514fa",
   "metadata": {},
   "source": [
    "    spam.bacon()"
   ]
  },
  {
   "cell_type": "code",
   "execution_count": null,
   "id": "733fb0e7",
   "metadata": {},
   "outputs": [],
   "source": []
  }
 ],
 "metadata": {
  "kernelspec": {
   "display_name": "Python 3",
   "language": "python",
   "name": "python3"
  },
  "language_info": {
   "codemirror_mode": {
    "name": "ipython",
    "version": 3
   },
   "file_extension": ".py",
   "mimetype": "text/x-python",
   "name": "python",
   "nbconvert_exporter": "python",
   "pygments_lexer": "ipython3",
   "version": "3.8.8"
  }
 },
 "nbformat": 4,
 "nbformat_minor": 5
}
