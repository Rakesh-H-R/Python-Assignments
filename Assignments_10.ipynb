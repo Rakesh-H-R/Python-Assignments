{
 "cells": [
  {
   "cell_type": "markdown",
   "id": "786b8966",
   "metadata": {},
   "source": [
    "##### 1. How do you distinguish between shutil.copy() and shutil.copytree()?"
   ]
  },
  {
   "cell_type": "markdown",
   "id": "c1995d48",
   "metadata": {},
   "source": [
    "    shutil.copy() - is used to copy a file from source path to the destination path, this will not copy the directories.\n",
    "    shutil.copytree() - is used to copy the entire folder structure from the source path to the destination path."
   ]
  },
  {
   "cell_type": "markdown",
   "id": "fb0a86c9",
   "metadata": {},
   "source": [
    "##### 2. What function is used to rename files?"
   ]
  },
  {
   "cell_type": "markdown",
   "id": "83858cc6",
   "metadata": {},
   "source": [
    "    os.rename() function is used to rename files.\n",
    "    import os\n",
    "    os.rename('old_file_name','new_file_name')"
   ]
  },
  {
   "cell_type": "markdown",
   "id": "9e5347ba",
   "metadata": {},
   "source": [
    "##### 3. What is the difference between the delete functions in the send2trash and shutil modules?"
   ]
  },
  {
   "cell_type": "markdown",
   "id": "5901cda0",
   "metadata": {},
   "source": [
    "    send2trash will move the file or folder to recyclebin\n",
    "    shutil.rmtree permanently deletes folder\n",
    "    \n",
    "    import shutil\n",
    "    shutil.rmtree(\"E:\\Dataset\\Test1\\Test.txt\")\n",
    "    \n",
    "    import send2trash\n",
    "    send2trash.send2trash(\"E:\\Dataset\\Test1\\innet_Test1\")"
   ]
  },
  {
   "cell_type": "markdown",
   "id": "b81acffa",
   "metadata": {},
   "source": [
    "##### 4.ZipFile objects have a close() method just like File objects’ close() method. What ZipFile method is equivalent to File objects’ open() method?"
   ]
  },
  {
   "cell_type": "markdown",
   "id": "45b415ab",
   "metadata": {},
   "source": [
    "    ZipFile() method is equivalent to open() method"
   ]
  },
  {
   "cell_type": "markdown",
   "id": "afbb3b50",
   "metadata": {},
   "source": [
    "##### 5. Create a programme that searches a folder tree for files with a certain file extension (such as .pdf or .jpg). Copy these files from whatever location they are in to a new folder."
   ]
  },
  {
   "cell_type": "code",
   "execution_count": 37,
   "id": "b9e1053d",
   "metadata": {},
   "outputs": [],
   "source": [
    "import os\n",
    "import shutil\n",
    "\n",
    "def check_copy_files(dirname, filetype, destination):\n",
    "    \"\"\"This function is used to check the directory for files with certain extension\n",
    "    dirname - The source folder where we want to search files of certain type,\n",
    "    filetype - type of file eg, .pdf, .doc, .jpg,\n",
    "    destination - the path of the directory we want to copy files to\n",
    "    \"\"\"\n",
    "    try:\n",
    "        if dirname is None or dirname==\"\" or len(filetype)==0:\n",
    "            return \"DirName cannot be Null\"\n",
    "        elif filetype is None or filetype==\"\" or len(filetype)==0:\n",
    "            return \"FileType cannot be Null\"\n",
    "        else:\n",
    "            files = os.listdir(dirname)\n",
    "            for i in files:\n",
    "                if str(i).endswith(str(filetype)):\n",
    "                    src = os.path.join(dirname,i)\n",
    "                    shutil.copy(src,destination)\n",
    "            else:\n",
    "                print(\"Done with all files\")\n",
    "    except Exception as e:\n",
    "        print(\"Error in check_copy_files\",e)"
   ]
  },
  {
   "cell_type": "code",
   "execution_count": 39,
   "id": "2ac36c44",
   "metadata": {},
   "outputs": [
    {
     "name": "stdout",
     "output_type": "stream",
     "text": [
      "Done with all files\n"
     ]
    }
   ],
   "source": [
    "check_copy_files(\"E:\\iNeuron\\FSDSMyBatch\\Data\",'.pdf',\"E:\\iNeuron\\FSDSMyBatch\\Data\\Destination\")"
   ]
  },
  {
   "cell_type": "code",
   "execution_count": null,
   "id": "0918ba39",
   "metadata": {},
   "outputs": [],
   "source": []
  }
 ],
 "metadata": {
  "kernelspec": {
   "display_name": "Python 3",
   "language": "python",
   "name": "python3"
  },
  "language_info": {
   "codemirror_mode": {
    "name": "ipython",
    "version": 3
   },
   "file_extension": ".py",
   "mimetype": "text/x-python",
   "name": "python",
   "nbconvert_exporter": "python",
   "pygments_lexer": "ipython3",
   "version": "3.8.8"
  }
 },
 "nbformat": 4,
 "nbformat_minor": 5
}
