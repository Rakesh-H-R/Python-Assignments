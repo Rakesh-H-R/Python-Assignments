{
 "cells": [
  {
   "cell_type": "markdown",
   "id": "b0add618",
   "metadata": {},
   "source": [
    "##### 1. What exactly is []?"
   ]
  },
  {
   "cell_type": "markdown",
   "id": "7e726dcc",
   "metadata": {},
   "source": [
    "    This is an empty list"
   ]
  },
  {
   "cell_type": "markdown",
   "id": "68a36435",
   "metadata": {},
   "source": [
    "##### 2. In a list of values stored in a variable called spam, how would you assign the value 'hello' as the third value? (Assume [2, 4, 6, 8, 10] are in spam.)"
   ]
  },
  {
   "cell_type": "markdown",
   "id": "2359eebf",
   "metadata": {},
   "source": [
    "    spam = [2, 4, 6, 8, 10]\n",
    "    spam[2] = \"hello\""
   ]
  },
  {
   "cell_type": "code",
   "execution_count": 6,
   "id": "6014bb20",
   "metadata": {},
   "outputs": [],
   "source": [
    "spam = ['a', 'b', 'c', 'd'] "
   ]
  },
  {
   "cell_type": "markdown",
   "id": "1a7c5bc2",
   "metadata": {},
   "source": [
    "##### 3. What is the value of spam[int(int('3' * 2) / 11)]?"
   ]
  },
  {
   "cell_type": "markdown",
   "id": "866c1889",
   "metadata": {},
   "source": [
    "    'd'"
   ]
  },
  {
   "cell_type": "markdown",
   "id": "a66d3901",
   "metadata": {},
   "source": [
    "##### 4. What is the value of spam[-1]?"
   ]
  },
  {
   "cell_type": "markdown",
   "id": "7a169a42",
   "metadata": {},
   "source": [
    "    'd'"
   ]
  },
  {
   "cell_type": "markdown",
   "id": "c12161e9",
   "metadata": {},
   "source": [
    "##### 5. What is the value of spam[:2]?"
   ]
  },
  {
   "cell_type": "markdown",
   "id": "c6119d1a",
   "metadata": {},
   "source": [
    "    ['a','b']"
   ]
  },
  {
   "cell_type": "code",
   "execution_count": 17,
   "id": "d06407a9",
   "metadata": {},
   "outputs": [],
   "source": [
    "bacon = [3.14, 'cat', 11, 'cat', True] "
   ]
  },
  {
   "cell_type": "markdown",
   "id": "8dc68f3a",
   "metadata": {},
   "source": [
    "##### 6. What is the value of bacon.index('cat')?"
   ]
  },
  {
   "cell_type": "markdown",
   "id": "cfff58ff",
   "metadata": {},
   "source": [
    "    1"
   ]
  },
  {
   "cell_type": "markdown",
   "id": "47360c64",
   "metadata": {},
   "source": [
    "##### 7. How does bacon.append(99) change the look of the list value in bacon?"
   ]
  },
  {
   "cell_type": "markdown",
   "id": "46b26096",
   "metadata": {},
   "source": [
    "    [3.14, 'cat', 11, 'cat', True, 99]"
   ]
  },
  {
   "cell_type": "markdown",
   "id": "9471c9c9",
   "metadata": {},
   "source": [
    "##### 8. How does bacon.remove('cat') change the look of the list in bacon?"
   ]
  },
  {
   "cell_type": "markdown",
   "id": "631e8d5e",
   "metadata": {},
   "source": [
    "    [3.14, 11, 'cat', True, 99]  - inclusing the previous appended element\n",
    "    \n",
    "    else\n",
    "    [3.14, 11, 'cat', True]"
   ]
  },
  {
   "cell_type": "markdown",
   "id": "5a49dbcd",
   "metadata": {},
   "source": [
    "##### 9. What are the list concatenation and list replication operators?"
   ]
  },
  {
   "cell_type": "markdown",
   "id": "890d46f2",
   "metadata": {},
   "source": [
    "    The list concatenation operator is +\n",
    "    The list replication operator is *"
   ]
  },
  {
   "cell_type": "markdown",
   "id": "7fb34546",
   "metadata": {},
   "source": [
    "##### 10. What is difference between the list methods append() and insert()?"
   ]
  },
  {
   "cell_type": "markdown",
   "id": "dcc306ff",
   "metadata": {},
   "source": [
    "    append method of a list adds the given element at the end of the list whereas the insert method of a list inserts the element at the given index.\n",
    "    append method takes only one argument that is an element to be inserted whereas insert method takes two argument one is the index and other is the element to be inserted."
   ]
  },
  {
   "cell_type": "markdown",
   "id": "c33d936a",
   "metadata": {},
   "source": [
    "##### 11. What are the two methods for removing items from a list?"
   ]
  },
  {
   "cell_type": "markdown",
   "id": "a143960c",
   "metadata": {},
   "source": [
    "    remove() and pop() are the two methods for removing the item/element from a list"
   ]
  },
  {
   "cell_type": "markdown",
   "id": "ef26328f",
   "metadata": {},
   "source": [
    "##### 12. Describe how list values and string values are identical."
   ]
  },
  {
   "cell_type": "markdown",
   "id": "4d83e994",
   "metadata": {},
   "source": [
    "    List values and string values are identical because these are ordered arrangement of elements.\n",
    "    List is a ordered group of elements where as string is a ordered group of characters.\n",
    "    \n",
    "    Since these two are ordered arrangement of elements indexing is possible to fetch an element.\n",
    "    \n",
    "    example:\n",
    "        name = \"Rakesh\"\n",
    "        name[0] gives 'R'\n",
    "        \n",
    "        my_list = [\"Rakesh\",1,2,3,4,5]\n",
    "        my_list[0] gives the first element i,e. \"Rakesh\""
   ]
  },
  {
   "cell_type": "markdown",
   "id": "d679e4d9",
   "metadata": {},
   "source": [
    "##### 13. What's the difference between tuples and lists?"
   ]
  },
  {
   "cell_type": "markdown",
   "id": "9bef7441",
   "metadata": {},
   "source": [
    "    Lists are mutable entities whereas tuples are immutable, i.e, we will be able to update the elememts of a list whereas we will not be able to update the elements of a tuple."
   ]
  },
  {
   "cell_type": "markdown",
   "id": "80d46ac6",
   "metadata": {},
   "source": [
    "##### 14. How do you type a tuple value that only contains the integer 42?"
   ]
  },
  {
   "cell_type": "markdown",
   "id": "72fccc84",
   "metadata": {},
   "source": [
    "    t1 = (42,)"
   ]
  },
  {
   "cell_type": "markdown",
   "id": "664f1459",
   "metadata": {},
   "source": [
    "##### 15. How do you get a list value's tuple form? How do you get a tuple value's list form?"
   ]
  },
  {
   "cell_type": "markdown",
   "id": "9c365fc5",
   "metadata": {},
   "source": [
    "    l1 = [1,2,3,4,5]\n",
    "    tuple(l1)\n",
    "    t1 = (1,2,3,4,5)\n",
    "    list(t1)"
   ]
  },
  {
   "cell_type": "markdown",
   "id": "653c27c4",
   "metadata": {},
   "source": [
    "##### 16. Variables that \"contain\" list values are not necessarily lists themselves. Instead, what do they contain?"
   ]
  },
  {
   "cell_type": "markdown",
   "id": "969446ee",
   "metadata": {},
   "source": [
    "    The values can be a tuple, string, set. which can be converted to a list using the list() type casting.\n",
    "    We can have dictionary also but only keys gets added as elements of a list."
   ]
  },
  {
   "cell_type": "markdown",
   "id": "cd64134e",
   "metadata": {},
   "source": [
    "##### 17. How do you distinguish between copy.copy() and copy.deepcopy()?"
   ]
  },
  {
   "cell_type": "markdown",
   "id": "63634453",
   "metadata": {},
   "source": [
    "    copy.copy() - It is Shallow copy in which any changes made to a copy of an object do reflect in the original object.\n",
    "    copy.deepcopy() - It is deepcopy in which any changes made to a copy of an object do not reflect in the original object."
   ]
  },
  {
   "cell_type": "code",
   "execution_count": null,
   "id": "297e55d1",
   "metadata": {},
   "outputs": [],
   "source": []
  }
 ],
 "metadata": {
  "kernelspec": {
   "display_name": "Python 3",
   "language": "python",
   "name": "python3"
  },
  "language_info": {
   "codemirror_mode": {
    "name": "ipython",
    "version": 3
   },
   "file_extension": ".py",
   "mimetype": "text/x-python",
   "name": "python",
   "nbconvert_exporter": "python",
   "pygments_lexer": "ipython3",
   "version": "3.8.8"
  }
 },
 "nbformat": 4,
 "nbformat_minor": 5
}
