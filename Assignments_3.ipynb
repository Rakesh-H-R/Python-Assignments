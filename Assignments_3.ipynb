{
 "cells": [
  {
   "cell_type": "markdown",
   "id": "3ca0abda",
   "metadata": {},
   "source": [
    "##### 1. Why are functions advantageous to have in your programs?"
   ]
  },
  {
   "cell_type": "markdown",
   "id": "51f65f76",
   "metadata": {},
   "source": [
    "    By using the functions in our programs, code reusability increases. \n",
    "    It reduces the duplicate code"
   ]
  },
  {
   "cell_type": "markdown",
   "id": "3350e50f",
   "metadata": {},
   "source": [
    "##### 2. When does the code in a function run: when it's specified or when it's called?"
   ]
  },
  {
   "cell_type": "markdown",
   "id": "95e8be28",
   "metadata": {},
   "source": [
    "    The Function code gets executed when it is called."
   ]
  },
  {
   "cell_type": "markdown",
   "id": "631516a3",
   "metadata": {},
   "source": [
    "##### 3. What statement creates a function?"
   ]
  },
  {
   "cell_type": "markdown",
   "id": "5046d4a9",
   "metadata": {},
   "source": [
    "    def is the keyword used to define a function followed by a function name.\n",
    "    eg:\n",
    "        def sum(a,b):\n",
    "            return a+b\n",
    "        sum is a function which accepts two arguments a and b and returns the summation of two arguments"
   ]
  },
  {
   "cell_type": "markdown",
   "id": "cadd268a",
   "metadata": {},
   "source": [
    "##### 4. What is the difference between a function and a function call?"
   ]
  },
  {
   "cell_type": "markdown",
   "id": "8b1669e5",
   "metadata": {},
   "source": [
    "    Function is a set of statements mappend to a particular function name(if not anonymous function) to achieve a particular task.\n",
    "    When this function gets called the set of statements mapped to this function gets executed.\n",
    "    When we want to have the particular task done, we do a function call."
   ]
  },
  {
   "cell_type": "markdown",
   "id": "24e0e4ae",
   "metadata": {},
   "source": [
    "##### 5. How many global scopes are there in a Python program? How many local scopes?"
   ]
  },
  {
   "cell_type": "markdown",
   "id": "8763e08c",
   "metadata": {},
   "source": [
    "    There is one global scope and one local scope in python program."
   ]
  },
  {
   "cell_type": "markdown",
   "id": "9a7ea8f8",
   "metadata": {},
   "source": [
    "##### 6. What happens to variables in a local scope when the function call returns?"
   ]
  },
  {
   "cell_type": "markdown",
   "id": "9673881d",
   "metadata": {},
   "source": [
    "    When the execution of the function call returns or terminates the variables in local scope are destroyed."
   ]
  },
  {
   "cell_type": "markdown",
   "id": "63a3b434",
   "metadata": {},
   "source": [
    "##### 7. What is the concept of a return value? Is it possible to have a return value in an expression?"
   ]
  },
  {
   "cell_type": "markdown",
   "id": "5a2d9aba",
   "metadata": {},
   "source": [
    "    A return value is the value the function returns to the calling statement or script, i.e, after executing the set of statement what is the output or a value that the called function must return to a calling script is called as a return value.\n",
    "    Yes, it is possible to have a return value in an expression.\n",
    "    for example, a = 2 + 5, the result of 2+5 gets assigned to a variable a"
   ]
  },
  {
   "cell_type": "markdown",
   "id": "51c778f1",
   "metadata": {},
   "source": [
    "##### 8. If a function does not have a return statement, what is the return value of a call to that function?"
   ]
  },
  {
   "cell_type": "markdown",
   "id": "fa6e3149",
   "metadata": {},
   "source": [
    "    If the function does not have a return statement, None is the return value of a call to that function."
   ]
  },
  {
   "cell_type": "markdown",
   "id": "1809baf7",
   "metadata": {},
   "source": [
    "##### 9. How do you make a function variable refer to the global variable?"
   ]
  },
  {
   "cell_type": "markdown",
   "id": "0f575bdd",
   "metadata": {},
   "source": [
    "    we can use a global variable to make a function variable refer to the global variable\n",
    "    Example,\n",
    "    \n",
    "    def my_function():\n",
    "        global my_name\n",
    "        my_name = \"Rakesh\"\n",
    "        \n",
    "    print('my_name') # outside the function prints the name after calling the function\n",
    "    "
   ]
  },
  {
   "cell_type": "markdown",
   "id": "32ac6fda",
   "metadata": {},
   "source": [
    "##### 10. What is the data type of None?"
   ]
  },
  {
   "cell_type": "markdown",
   "id": "a87d68e2",
   "metadata": {},
   "source": [
    "    NoneType is the data type of None"
   ]
  },
  {
   "cell_type": "markdown",
   "id": "19c366ef",
   "metadata": {},
   "source": [
    "##### 11. What does the sentence import areallyourpetsnamederic do?"
   ]
  },
  {
   "cell_type": "markdown",
   "id": "23dc84cc",
   "metadata": {},
   "source": [
    "    import areallyourpetsnamederic, will import the areallyourpetsnamederic module to the current working module"
   ]
  },
  {
   "cell_type": "markdown",
   "id": "641288aa",
   "metadata": {},
   "source": [
    "##### 12. If you had a bacon() feature in a spam module, what would you call it after importing spam?"
   ]
  },
  {
   "cell_type": "markdown",
   "id": "8ae4ae34",
   "metadata": {},
   "source": [
    "    spam.bacon()"
   ]
  },
  {
   "cell_type": "markdown",
   "id": "be568409",
   "metadata": {},
   "source": [
    "##### 13. What can you do to save a programme from crashing if it encounters an error?"
   ]
  },
  {
   "cell_type": "markdown",
   "id": "a27b34d2",
   "metadata": {},
   "source": [
    "    We can use the exception handling, which would follow the alternate path or execute alternate set of statements if a programme encounters an error or an exception."
   ]
  },
  {
   "cell_type": "markdown",
   "id": "037b12de",
   "metadata": {},
   "source": [
    "##### 14. What is the purpose of the try clause? What is the purpose of the except clause?"
   ]
  },
  {
   "cell_type": "markdown",
   "id": "c338039c",
   "metadata": {},
   "source": [
    "    Whatever the suspicious code we have, we can have that code within the try clause, and if there are any exceptions in the set of statements within try block the control goes to except block and set of statements in the except block gets executed.\n",
    "    \n",
    "    Eg.\n",
    "    try:\n",
    "        a = int(input(\"Enter an integer : \"))\n",
    "        a/4\n",
    "    except Exception as e:\n",
    "        print('Exception occured')"
   ]
  }
 ],
 "metadata": {
  "kernelspec": {
   "display_name": "Python 3",
   "language": "python",
   "name": "python3"
  },
  "language_info": {
   "codemirror_mode": {
    "name": "ipython",
    "version": 3
   },
   "file_extension": ".py",
   "mimetype": "text/x-python",
   "name": "python",
   "nbconvert_exporter": "python",
   "pygments_lexer": "ipython3",
   "version": "3.8.8"
  }
 },
 "nbformat": 4,
 "nbformat_minor": 5
}
