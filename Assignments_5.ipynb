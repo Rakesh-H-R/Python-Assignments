{
 "cells": [
  {
   "cell_type": "markdown",
   "id": "0d7b2993",
   "metadata": {},
   "source": [
    "##### 1. What does an empty dictionary's code look like?"
   ]
  },
  {
   "cell_type": "markdown",
   "id": "c8068188",
   "metadata": {},
   "source": [
    "        dict()"
   ]
  },
  {
   "cell_type": "markdown",
   "id": "111d515f",
   "metadata": {},
   "source": [
    "##### 2. What is the value of a dictionary value with the key 'foo' and the value 42?"
   ]
  },
  {
   "cell_type": "markdown",
   "id": "fe977b65",
   "metadata": {},
   "source": [
    "    42"
   ]
  },
  {
   "cell_type": "markdown",
   "id": "7f0436ca",
   "metadata": {},
   "source": [
    "##### 3. What is the most significant distinction between a dictionary and a list?"
   ]
  },
  {
   "cell_type": "markdown",
   "id": "b4d53c30",
   "metadata": {},
   "source": [
    "    Elements of a list are accessed by the index where as elements of a dictionary are accessed by the corresponding keys."
   ]
  },
  {
   "cell_type": "markdown",
   "id": "d773f2d9",
   "metadata": {},
   "source": [
    "##### 4. What happens if you try to access spam['foo'] if spam is {'bar': 100}?"
   ]
  },
  {
   "cell_type": "markdown",
   "id": "bb509cc2",
   "metadata": {},
   "source": [
    "    It Throws a KeyError, since foo key is not present in the spam dictionary."
   ]
  },
  {
   "cell_type": "markdown",
   "id": "5f947bfb",
   "metadata": {},
   "source": [
    "##### 5. If a dictionary is stored in spam, what is the difference between the expressions 'cat' in spam and 'cat' in spam.keys()?"
   ]
  },
  {
   "cell_type": "markdown",
   "id": "bab6e95e",
   "metadata": {},
   "source": [
    "    There is no difference since 'cat' in spam checks for'cat' in keys in spam dictionary and 'cat' in spam.keys() also checks for 'cat' in keys"
   ]
  },
  {
   "cell_type": "markdown",
   "id": "b60aefa9",
   "metadata": {},
   "source": [
    "##### 6. If a dictionary is stored in spam, what is the difference between the expressions 'cat' in spam and 'cat' in spam.values()?"
   ]
  },
  {
   "cell_type": "markdown",
   "id": "63b199fc",
   "metadata": {},
   "source": [
    "    'cat' in spam checks whether 'cat' is present in spam keys whereas 'cat' in spam.values() checks whether 'cat' is present in values of a spam dictionary."
   ]
  },
  {
   "cell_type": "markdown",
   "id": "f7da83c6",
   "metadata": {},
   "source": [
    "##### 7. What is a shortcut for the following code?\n",
    "if 'color' not in spam:\n",
    "spam['color'] = 'black'\n"
   ]
  },
  {
   "cell_type": "markdown",
   "id": "ed7093ba",
   "metadata": {},
   "source": [
    "    spam['color'] = 'black'"
   ]
  },
  {
   "cell_type": "markdown",
   "id": "109140b1",
   "metadata": {},
   "source": [
    "##### 8. How do you \"pretty print\" dictionary values using which module and function?"
   ]
  },
  {
   "cell_type": "markdown",
   "id": "8a3d0899",
   "metadata": {},
   "source": [
    "    We can use pprint module and pprint function in the same module for pretty printing the dictionary values"
   ]
  }
 ],
 "metadata": {
  "kernelspec": {
   "display_name": "Python 3",
   "language": "python",
   "name": "python3"
  },
  "language_info": {
   "codemirror_mode": {
    "name": "ipython",
    "version": 3
   },
   "file_extension": ".py",
   "mimetype": "text/x-python",
   "name": "python",
   "nbconvert_exporter": "python",
   "pygments_lexer": "ipython3",
   "version": "3.8.8"
  }
 },
 "nbformat": 4,
 "nbformat_minor": 5
}
